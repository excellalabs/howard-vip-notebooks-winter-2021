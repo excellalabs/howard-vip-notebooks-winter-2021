{
 "cells": [
  {
   "cell_type": "code",
   "execution_count": null,
   "id": "2e16bb88",
   "metadata": {},
   "outputs": [],
   "source": [
    "# dependencies\n",
    "import re\n",
    "import pandas as pd\n",
    "import numpy as np\n",
    "\n",
    "import plotly.express as px\n",
    "import plotly.graph_objects as go\n",
    "import networkx as nx\n",
    "import matplotlib.pyplot as plt\n",
    "\n",
    "from zipfile import ZipFile\n",
    "from matplotlib.pyplot import figure\n",
    "from collections import Counter, defaultdict\n",
    "from itertools import combinations"
   ]
  },
  {
   "cell_type": "code",
   "execution_count": null,
   "id": "98c61218",
   "metadata": {},
   "outputs": [],
   "source": [
    "# path to data\n",
    "path = \"./archive.zip\""
   ]
  },
  {
   "cell_type": "code",
   "execution_count": null,
   "id": "c60c7234",
   "metadata": {},
   "outputs": [],
   "source": [
    "# extracting the compressed data\n",
    "with ZipFile(path, 'r') as zip:\n",
    "  zip.extractall()"
   ]
  },
  {
   "cell_type": "code",
   "execution_count": null,
   "id": "4a2e4407",
   "metadata": {},
   "outputs": [],
   "source": [
    "# loading the data\n",
    "userData = pd.read_csv(\"./anonymized_disqus_user_data.csv\")\n",
    "botComments = pd.read_csv(\"./botnet_comments.csv\")\n",
    "potentialBot = pd.read_csv(\"./potential_social_botnets.csv\")\n",
    "metaData = pd.read_csv(\"./user_meta_data.csv\")"
   ]
  },
  {
   "cell_type": "code",
   "execution_count": null,
   "id": "3909760a",
   "metadata": {},
   "outputs": [],
   "source": [
    "# converting message to string as some of them are float, etc.\n",
    "botComments.message = botComments.message.astype(str)"
   ]
  },
  {
   "cell_type": "code",
   "execution_count": null,
   "id": "6f3bd061",
   "metadata": {},
   "outputs": [],
   "source": [
    "# removing the html tags\n",
    "botComments.message = botComments.message.apply(lambda html: re.sub('<.*?>', '', html))"
   ]
  },
  {
   "cell_type": "code",
   "execution_count": null,
   "id": "87329993",
   "metadata": {},
   "outputs": [],
   "source": [
    "# installing sentence transformers (https://github.com/UKPLab/sentence-transformers)\n",
    "!pip install -U sentence-transformers"
   ]
  },
  {
   "cell_type": "code",
   "execution_count": null,
   "id": "e8af4680",
   "metadata": {},
   "outputs": [],
   "source": [
    "# dependencies\n",
    "from sentence_transformers import SentenceTransformer\n",
    "from sklearn.cluster import AgglomerativeClustering\n",
    "import numpy as np"
   ]
  },
  {
   "cell_type": "code",
   "execution_count": null,
   "id": "22cad9e5",
   "metadata": {},
   "outputs": [],
   "source": [
    "# loading the corpusEmbeddings\n",
    "corpusEmbeddings = np.load(\"./corpusEmbeddings.npy\")"
   ]
  },
  {
   "cell_type": "code",
   "execution_count": null,
   "id": "55b30106",
   "metadata": {},
   "outputs": [],
   "source": [
    "corpusEmbeddings.shape"
   ]
  },
  {
   "cell_type": "code",
   "execution_count": null,
   "id": "e3c23cf4",
   "metadata": {},
   "outputs": [],
   "source": [
    "# Agglomerative Clustering (Heirarchial Clustering)\n",
    "clusteringModel = AgglomerativeClustering(n_clusters=None, distance_threshold=5.9)\n",
    "clusteringModel.fit(corpusEmbeddings)\n",
    "clusterAssignment = clusteringModel.labels_"
   ]
  },
  {
   "cell_type": "code",
   "execution_count": null,
   "id": "3cd0ed28",
   "metadata": {},
   "outputs": [],
   "source": [
    "# processing clustered data\n",
    "clusteredSentences = defaultdict(list)\n",
    "clusteredUsers = defaultdict(set)\n",
    "for sentenceId, clusterId in enumerate(clusterAssignment):\n",
    "    clusteredSentences[clusterId].append(sentenceId)\n",
    "    clusteredUsers[clusterId].add(botComments.username[sentenceId])"
   ]
  },
  {
   "cell_type": "code",
   "execution_count": null,
   "id": "5be06584",
   "metadata": {},
   "outputs": [],
   "source": [
    "len(clusteredUsers)"
   ]
  },
  {
   "cell_type": "code",
   "execution_count": null,
   "id": "040012de",
   "metadata": {},
   "outputs": [],
   "source": [
    "botComments.message[clusteredSentences[2]]"
   ]
  },
  {
   "cell_type": "code",
   "execution_count": null,
   "id": "87977262",
   "metadata": {},
   "outputs": [],
   "source": [
    "botComments.message[clusteredSentences[3]]"
   ]
  },
  {
   "cell_type": "code",
   "execution_count": null,
   "id": "69b85b25",
   "metadata": {},
   "outputs": [],
   "source": [
    "botComments.message[clusteredSentences[100]]"
   ]
  },
  {
   "cell_type": "code",
   "execution_count": null,
   "id": "4a97e9e9",
   "metadata": {},
   "outputs": [],
   "source": [
    "printer = [print(clusteredUsers[cluster], \"\\n\") for cluster in clusteredUsers]"
   ]
  },
  {
   "cell_type": "code",
   "execution_count": null,
   "id": "8934346e",
   "metadata": {},
   "outputs": [],
   "source": [
    "# cluster based on same password\n",
    "def clusterByPassword(botDF, userData):\n",
    "  bots = botDF[['username']].drop_duplicates()\n",
    "  botsWithDetails = pd.merge(botDF, userData, on='username')\n",
    "  groupedBots = botsWithDetails.groupby(by='password_id').agg(set)\n",
    "  expectedCluster = defaultdict(list)\n",
    "  for id, cluster in enumerate(groupedBots.username.values):\n",
    "    expectedCluster[id] = cluster\n",
    "  return expectedCluster"
   ]
  },
  {
   "cell_type": "code",
   "execution_count": null,
   "id": "4d167154",
   "metadata": {},
   "outputs": [],
   "source": [
    "# defining function to get true/predicted edges\n",
    "def getEdges(clusters):\n",
    "  allEdges = set()\n",
    "  for cluster in clusters.values():\n",
    "    edges = set(combinations(cluster, 2))\n",
    "    allEdges |= edges\n",
    "  return allEdges"
   ]
  },
  {
   "cell_type": "code",
   "execution_count": null,
   "id": "8cf58dac",
   "metadata": {},
   "outputs": [],
   "source": [
    "# metric definition\n",
    "def getMetric(n, trueEdges, predictedEdges):\n",
    "  totalEdges = n*((n - 1)/2)\n",
    "  trueEdges = set(map(tuple, map(sorted, trueEdges)))\n",
    "  predictedEdges = set(map(tuple, map(sorted, predictedEdges)))\n",
    "  truePositives = trueEdges & predictedEdges\n",
    "  falsePositives = predictedEdges - trueEdges\n",
    "  print(\"TE/PE:\", len(trueEdges), len(predictedEdges))\n",
    "  print(\"TP/FP:\", len(truePositives), len(falsePositives))\n",
    "  accuracy = len(truePositives)/len(trueEdges)\n",
    "  penalizingFactor = 1 - ((len(falsePositives)*len(truePositives))/totalEdges)\n",
    "  return accuracy*penalizingFactor"
   ]
  },
  {
   "cell_type": "code",
   "execution_count": null,
   "id": "cef8c317",
   "metadata": {},
   "outputs": [],
   "source": [
    "expectedCluster = clusterByPassword(botComments, userData)"
   ]
  },
  {
   "cell_type": "code",
   "execution_count": null,
   "id": "4bd41a81",
   "metadata": {},
   "outputs": [],
   "source": [
    "trueEdges = getEdges(expectedCluster)"
   ]
  },
  {
   "cell_type": "code",
   "execution_count": null,
   "id": "f44bae3d",
   "metadata": {},
   "outputs": [],
   "source": [
    "predictedEdges = getEdges(clusteredUsers)"
   ]
  },
  {
   "cell_type": "code",
   "execution_count": null,
   "id": "e6417994",
   "metadata": {},
   "outputs": [],
   "source": [
    "getMetric(15163, trueEdges, predictedEdges)"
   ]
  },
  {
   "cell_type": "code",
   "execution_count": null,
   "id": "46a4a360",
   "metadata": {},
   "outputs": [],
   "source": [
    " pd.merge(botComments[['username']].drop_duplicates(), userData, on='username').shape"
   ]
  },
  {
   "cell_type": "code",
   "execution_count": null,
   "id": "91d2ff37",
   "metadata": {},
   "outputs": [],
   "source": [
    "corpusEmbeddings.shape"
   ]
  },
  {
   "cell_type": "code",
   "execution_count": null,
   "id": "964e6d8f",
   "metadata": {},
   "outputs": [],
   "source": [
    "botComments[['message']].drop_duplicates().shape"
   ]
  },
  {
   "cell_type": "code",
   "execution_count": null,
   "id": "384240c6",
   "metadata": {},
   "outputs": [],
   "source": [
    "botComments.shape"
   ]
  },
  {
   "cell_type": "code",
   "execution_count": null,
   "id": "fb045e3f",
   "metadata": {},
   "outputs": [],
   "source": [
    "np.unique(corpusEmbeddings, axis=0).shape"
   ]
  },
  {
   "cell_type": "code",
   "execution_count": null,
   "id": "55f0b3bf",
   "metadata": {},
   "outputs": [],
   "source": []
  }
 ],
 "metadata": {
  "kernelspec": {
   "display_name": "conda_python3",
   "language": "python",
   "name": "conda_python3"
  },
  "language_info": {
   "codemirror_mode": {
    "name": "ipython",
    "version": 3
   },
   "file_extension": ".py",
   "mimetype": "text/x-python",
   "name": "python",
   "nbconvert_exporter": "python",
   "pygments_lexer": "ipython3",
   "version": "3.6.13"
  }
 },
 "nbformat": 4,
 "nbformat_minor": 5
}
