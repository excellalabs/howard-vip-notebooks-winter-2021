{
 "cells": [
  {
   "cell_type": "code",
   "execution_count": null,
   "id": "7189e931",
   "metadata": {},
   "outputs": [],
   "source": [
    "!pip3 install gensim"
   ]
  },
  {
   "cell_type": "code",
   "execution_count": null,
   "id": "f468a256",
   "metadata": {},
   "outputs": [],
   "source": []
  },
  {
   "cell_type": "code",
   "execution_count": null,
   "id": "fc9c7110",
   "metadata": {},
   "outputs": [],
   "source": []
  },
  {
   "cell_type": "code",
   "execution_count": null,
   "id": "e827e998",
   "metadata": {},
   "outputs": [],
   "source": [
    "from gensim.parsing.preprocessing import remove_stopwords\n",
    "import nltk\n",
    "import pandas as pd\n",
    "import re\n",
    "import numpy as np"
   ]
  },
  {
   "cell_type": "code",
   "execution_count": null,
   "id": "ee15e7ea",
   "metadata": {},
   "outputs": [],
   "source": [
    "bot_users = pd.read_csv(\"./potential_social_botnets.csv\", delimiter=',', encoding='ISO-8859-2')\n",
    "users = pd.read_csv(\"./anonymized_disqus_user_data.csv\", delimiter=',', encoding='ISO-8859-2')\n",
    "users.drop_duplicates(subset='username', keep='first', inplace=True, ignore_index=True)\n",
    "bot_comments = pd.read_csv(\"./botnet_comments.csv\", delimiter=',', encoding='ISO-8859-2')"
   ]
  },
  {
   "cell_type": "code",
   "execution_count": null,
   "id": "71a75024",
   "metadata": {},
   "outputs": [],
   "source": [
    "nltk.download('stopwords')\n",
    "nltk.download('punkt')\n",
    "nltk.download('averaged_perceptron_tagger')"
   ]
  },
  {
   "cell_type": "code",
   "execution_count": null,
   "id": "9c20031e",
   "metadata": {},
   "outputs": [],
   "source": [
    "eng_stopwords = nltk.corpus.stopwords.words(\"english\") \n",
    "eng_stopwords.extend([u'lol', u'haha'])"
   ]
  },
  {
   "cell_type": "code",
   "execution_count": null,
   "id": "43cb2c61",
   "metadata": {},
   "outputs": [],
   "source": [
    "bot_users['creation_day'] = bot_users.apply(lambda x: x['creation_date'][:10], axis=1)"
   ]
  },
  {
   "cell_type": "code",
   "execution_count": null,
   "id": "5b24bfa3",
   "metadata": {},
   "outputs": [],
   "source": [
    "import time\n",
    "import datetime\n",
    "from dateutil import parser"
   ]
  },
  {
   "cell_type": "code",
   "execution_count": null,
   "id": "f8aa7a1c",
   "metadata": {},
   "outputs": [],
   "source": [
    "def date_to_utc_seconds(s):\n",
    "    s = str(s) + ':00'\n",
    "    date = parser.parse(s)\n",
    "    return int(time.mktime(date.timetuple()))"
   ]
  },
  {
   "cell_type": "code",
   "execution_count": null,
   "id": "47a433c8",
   "metadata": {},
   "outputs": [],
   "source": [
    "bot_users['creation_date_utc'] = bot_users.apply (lambda row: date_to_utc_seconds(row['creation_date']), axis=1)"
   ]
  },
  {
   "cell_type": "code",
   "execution_count": null,
   "id": "3b2bbf9a",
   "metadata": {},
   "outputs": [],
   "source": [
    "def get_cluster_id(row, user_df):\n",
    "    x = user_df.loc[user_df['username'] == row['username']]\n",
    "    if x.empty:\n",
    "        return None\n",
    "    return x.iloc[0]['cluster_id']"
   ]
  },
  {
   "cell_type": "code",
   "execution_count": null,
   "id": "b5f8edf1",
   "metadata": {},
   "outputs": [],
   "source": [
    "user_features = {} # username: [wc1, wc2..., date_created_utc]\n",
    "seen_words = set() # set of all nouns"
   ]
  },
  {
   "cell_type": "code",
   "execution_count": null,
   "id": "7c416faf",
   "metadata": {},
   "outputs": [],
   "source": [
    "is_noun = lambda pos: pos[:2] == 'NN'\n",
    "def clean_comment(row):\n",
    "    s = str(row['message'])\n",
    "    s = re.sub(\"<[^>]*>\", \" \", s.strip().lower())\n",
    "    s = ' '.join([word for word in s.split() if word not in eng_stopwords])\n",
    "    s = remove_stopwords(s)\n",
    "    s_tokens = nltk.word_tokenize(s)\n",
    "    nouns = [word for (word, pos) in nltk.pos_tag(s_tokens) if is_noun(pos)]\n",
    "    for word in nouns:\n",
    "          seen_words.add(word)      \n",
    "    return ' '.join(nouns)"
   ]
  },
  {
   "cell_type": "code",
   "execution_count": null,
   "id": "5c3688f1",
   "metadata": {},
   "outputs": [],
   "source": [
    "bot_comments_sample = bot_comments.sample(50000)"
   ]
  },
  {
   "cell_type": "code",
   "execution_count": null,
   "id": "3cf938a4",
   "metadata": {},
   "outputs": [],
   "source": [
    "bot_comments_sample['noun_message'] = bot_comments_sample.apply (lambda row: clean_comment(row), axis=1)"
   ]
  },
  {
   "cell_type": "code",
   "execution_count": null,
   "id": "0402c375",
   "metadata": {},
   "outputs": [],
   "source": [
    "seen_words_dict = {}\n",
    "seen_words_list = list(seen_words)\n",
    "for idx, word in enumerate(seen_words_list):\n",
    "    seen_words_dict[word] = idx"
   ]
  },
  {
   "cell_type": "code",
   "execution_count": null,
   "id": "92cabeee",
   "metadata": {},
   "outputs": [],
   "source": [
    "def make_features(row):\n",
    "    if row['username'] in user_features:\n",
    "        features = user_features[row['username']]\n",
    "    else:\n",
    "        features = [0]*len(seen_words_list)\n",
    "    \n",
    "    nouns = row['noun_message'].split()\n",
    "    for word in nouns:\n",
    "        features[seen_words_dict[word]] += 1\n",
    "    user_features[row['username']] = features\n",
    "    "
   ]
  },
  {
   "cell_type": "code",
   "execution_count": null,
   "id": "b4a98e2f",
   "metadata": {},
   "outputs": [],
   "source": [
    "dont_print = bot_comments_sample.apply (lambda row: make_features(row), axis=1)"
   ]
  },
  {
   "cell_type": "code",
   "execution_count": null,
   "id": "2faabaf2",
   "metadata": {},
   "outputs": [],
   "source": [
    "bot_users['creation_date_utc_delta'] = bot_users.apply (lambda row: row['creation_date_utc'] - 1199880694, axis=1)"
   ]
  },
  {
   "cell_type": "code",
   "execution_count": null,
   "id": "fcfb05f5",
   "metadata": {},
   "outputs": [],
   "source": [
    "def add_features(row):\n",
    "    features = None\n",
    "    if row['username'] in user_features:\n",
    "        features = user_features[row['username']]\n",
    "        features.append(row['creation_date_utc_delta'])\n",
    "    return features\n"
   ]
  },
  {
   "cell_type": "code",
   "execution_count": null,
   "id": "c3b10c4b",
   "metadata": {},
   "outputs": [],
   "source": [
    "bot_users['features'] = bot_users.apply (lambda row: add_features(row), axis=1)"
   ]
  },
  {
   "cell_type": "code",
   "execution_count": null,
   "id": "98775990",
   "metadata": {},
   "outputs": [],
   "source": [
    "bot_users_with_features = bot_users.dropna(subset=['features'])"
   ]
  },
  {
   "cell_type": "code",
   "execution_count": null,
   "id": "9728773d",
   "metadata": {},
   "outputs": [],
   "source": [
    "bot_users_with_features.head(1)"
   ]
  },
  {
   "cell_type": "code",
   "execution_count": null,
   "id": "0ba3dbeb",
   "metadata": {},
   "outputs": [],
   "source": []
  },
  {
   "cell_type": "code",
   "execution_count": null,
   "id": "db74f73e",
   "metadata": {},
   "outputs": [],
   "source": [
    "bot_users_with_features.head(1)"
   ]
  },
  {
   "cell_type": "code",
   "execution_count": null,
   "id": "f3bcb7c5",
   "metadata": {},
   "outputs": [],
   "source": [
    "import sklearn.cluster as cluster"
   ]
  },
  {
   "cell_type": "code",
   "execution_count": null,
   "id": "20d9006d",
   "metadata": {},
   "outputs": [],
   "source": [
    "kmeans = cluster.KMeans(n_clusters=50, init='k-means++')"
   ]
  },
  {
   "cell_type": "code",
   "execution_count": null,
   "id": "b00e32a0",
   "metadata": {},
   "outputs": [],
   "source": [
    "(pd.DataFrame(bot_users_with_features['features'].values.tolist()).iloc[:, :-1])"
   ]
  },
  {
   "cell_type": "code",
   "execution_count": null,
   "id": "19f139c0",
   "metadata": {},
   "outputs": [],
   "source": [
    "kmeansx = kmeans.fit(pd.DataFrame(bot_users_with_features['features'].values.tolist()).iloc[:, :-1])"
   ]
  },
  {
   "cell_type": "code",
   "execution_count": null,
   "id": "615ef58d",
   "metadata": {},
   "outputs": [],
   "source": [
    "bot_users_with_features['cluster_id'] = kmeansx.labels_"
   ]
  },
  {
   "cell_type": "code",
   "execution_count": null,
   "id": "431bdfea",
   "metadata": {},
   "outputs": [],
   "source": [
    "bot_users_with_features.head(10)"
   ]
  },
  {
   "cell_type": "code",
   "execution_count": null,
   "id": "27bf0da7",
   "metadata": {},
   "outputs": [],
   "source": [
    "bot_comments_sample['cluster'] = bot_comments_sample.apply(lambda row: get_cluster_id(row, bot_users_with_features), axis=1)"
   ]
  },
  {
   "cell_type": "code",
   "execution_count": null,
   "id": "917c13d2",
   "metadata": {},
   "outputs": [],
   "source": [
    "bot_comments_sample.head(20)"
   ]
  },
  {
   "cell_type": "code",
   "execution_count": null,
   "id": "4dcccabb",
   "metadata": {},
   "outputs": [],
   "source": [
    "bot_comments_sample = bot_comments_sample.dropna(subset=['cluster'])"
   ]
  },
  {
   "cell_type": "code",
   "execution_count": null,
   "id": "e15f7316",
   "metadata": {},
   "outputs": [],
   "source": [
    "bot_comments_sample.head(10)"
   ]
  },
  {
   "cell_type": "code",
   "execution_count": null,
   "id": "626228e6",
   "metadata": {},
   "outputs": [],
   "source": [
    "x = bot_comments_sample.groupby('cluster')"
   ]
  },
  {
   "cell_type": "code",
   "execution_count": null,
   "id": "adf60caf",
   "metadata": {},
   "outputs": [],
   "source": [
    "x.apply(display)"
   ]
  },
  {
   "cell_type": "code",
   "execution_count": null,
   "id": "fcb88e76",
   "metadata": {},
   "outputs": [],
   "source": []
  }
 ],
 "metadata": {
  "kernelspec": {
   "display_name": "conda_python3",
   "language": "python",
   "name": "conda_python3"
  },
  "language_info": {
   "codemirror_mode": {
    "name": "ipython",
    "version": 3
   },
   "file_extension": ".py",
   "mimetype": "text/x-python",
   "name": "python",
   "nbconvert_exporter": "python",
   "pygments_lexer": "ipython3",
   "version": "3.6.13"
  }
 },
 "nbformat": 4,
 "nbformat_minor": 5
}
