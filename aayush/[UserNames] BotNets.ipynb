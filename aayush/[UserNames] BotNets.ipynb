{
 "cells": [
  {
   "cell_type": "code",
   "execution_count": null,
   "metadata": {
    "id": "mLPvqKdB4gCu"
   },
   "outputs": [],
   "source": [
    "# dependencies\n",
    "import re\n",
    "import pandas as pd\n",
    "import numpy as np\n",
    "\n",
    "import plotly.express as px\n",
    "import plotly.graph_objects as go\n",
    "import networkx as nx\n",
    "import matplotlib.pyplot as plt\n",
    "\n",
    "from zipfile import ZipFile\n",
    "from matplotlib.pyplot import figure\n",
    "from collections import Counter, defaultdict\n",
    "from itertools import combinations\n",
    "\n",
    "from sklearn.cluster import AgglomerativeClustering\n",
    "from sklearn.metrics.pairwise import cosine_similarity as cosine\n",
    "from sklearn.metrics.pairwise import euclidean_distances as euclidean"
   ]
  },
  {
   "cell_type": "code",
   "execution_count": null,
   "metadata": {
    "colab": {
     "base_uri": "https://localhost:8080/"
    },
    "id": "Zc8Su0Jxz05U",
    "outputId": "7240bb5a-1012-4ec5-e41f-49ed15818563"
   },
   "outputs": [],
   "source": [
    "# installing Character BERT\n",
    "!git clone https://github.com/helboukkouri/character-bert.git"
   ]
  },
  {
   "cell_type": "code",
   "execution_count": null,
   "metadata": {
    "colab": {
     "base_uri": "https://localhost:8080/"
    },
    "id": "mX3_Dgoq1VB8",
    "outputId": "72f1bb06-005e-4e19-e689-37ea0034f7de"
   },
   "outputs": [],
   "source": [
    "# installing Transformers for CharacterBert\n",
    "! pip install transformers"
   ]
  },
  {
   "cell_type": "markdown",
   "metadata": {
    "id": "9EgyFAIggW9p"
   },
   "source": [
    "## Loading the Data"
   ]
  },
  {
   "cell_type": "code",
   "execution_count": null,
   "metadata": {
    "colab": {
     "base_uri": "https://localhost:8080/"
    },
    "id": "wYfjhk3w6tcR",
    "outputId": "2792493d-7335-42a4-f283-b8e906b2d94e"
   },
   "outputs": [],
   "source": [
    "# loading the dat\n",
    "userData = pd.read_csv(\"anonymized_disqus_user_data.csv\")\n",
    "botComments = pd.read_csv(\"botnet_comments.csv\")\n",
    "# potentialBot = pd.read_csv(\"potential_social_botnets.csv\")\n",
    "# metaData = pd.read_csv(\"user_meta_data.csv\")"
   ]
  },
  {
   "cell_type": "code",
   "execution_count": null,
   "metadata": {
    "id": "0vy-uBDjU5xY"
   },
   "outputs": [],
   "source": [
    "# converting message to string as some of them are float, etc.\n",
    "botComments.message = botComments.message.astype(str)"
   ]
  },
  {
   "cell_type": "code",
   "execution_count": null,
   "metadata": {
    "id": "n6Fw8J9tWLcP"
   },
   "outputs": [],
   "source": [
    "# removing the html tags\n",
    "botComments.message = botComments.message.apply(lambda html: re.sub('<.*?>', '', html))"
   ]
  },
  {
   "cell_type": "markdown",
   "metadata": {
    "id": "cQUJ15AlgaQI"
   },
   "source": [
    "## Bot Detection and Metrics"
   ]
  },
  {
   "cell_type": "markdown",
   "metadata": {
    "id": "197w3HKvpBFS"
   },
   "source": [
    "### Clustering UserNames"
   ]
  },
  {
   "cell_type": "code",
   "execution_count": null,
   "metadata": {
    "colab": {
     "base_uri": "https://localhost:8080/"
    },
    "id": "eX4b_no2Q1HI",
    "outputId": "1e66c417-bcf0-4d13-8e56-5bba5b1fc501"
   },
   "outputs": [],
   "source": [
    "%cd ./character-bert/"
   ]
  },
  {
   "cell_type": "code",
   "execution_count": null,
   "metadata": {
    "colab": {
     "base_uri": "https://localhost:8080/"
    },
    "id": "rDRtAcl7Q9YI",
    "outputId": "63bee195-f88f-4c5a-ef25-bb9447f4f5d7"
   },
   "outputs": [],
   "source": [
    "!pwd"
   ]
  },
  {
   "cell_type": "code",
   "execution_count": null,
   "metadata": {
    "id": "572ZRPce07ef"
   },
   "outputs": [],
   "source": [
    "from modeling.character_bert import CharacterBertModel\n",
    "from utils.character_cnn import CharacterIndexer"
   ]
  },
  {
   "cell_type": "code",
   "execution_count": null,
   "metadata": {
    "colab": {
     "base_uri": "https://localhost:8080/"
    },
    "id": "9q00iZi3RJFp",
    "outputId": "76ce5521-107c-4cb7-973c-9cb48ee439cc"
   },
   "outputs": [],
   "source": [
    "!python download.py --model='general_character_bert'"
   ]
  },
  {
   "cell_type": "code",
   "execution_count": null,
   "metadata": {
    "id": "8ruxBu21hthi"
   },
   "outputs": [],
   "source": [
    "# Load some pre-trained CharacterBERT\n",
    "model = CharacterBertModel.from_pretrained(\n",
    "    './pretrained-models/general_character_bert/')"
   ]
  },
  {
   "cell_type": "code",
   "execution_count": null,
   "metadata": {
    "id": "9NlyjIl5RXY7"
   },
   "outputs": [],
   "source": [
    "# np.array of all usernames\n",
    "x = botComments.username.drop_duplicates().to_numpy()\n",
    "n_batch = min(x.shape[0]//512, 60)\n",
    "batch = x[:n_batch*512].reshape((n_batch, 512))\n",
    "\n",
    "\n",
    "# Convert token sequence into character indices\n",
    "indexer = CharacterIndexer()\n",
    "batch_ids = indexer.as_padded_tensor(batch)\n",
    "\n",
    "# Feed batch to CharacterBERT & get the embeddings\n",
    "embeddings_for_batch, _ = model(batch_ids)\n",
    "embeddings_for_x = embeddings_for_batch"
   ]
  },
  {
   "cell_type": "code",
   "execution_count": null,
   "metadata": {
    "id": "ybQVoqWEPQa9"
   },
   "outputs": [],
   "source": [
    "userNameEmbeddings = embeddings_for_x.reshape(-1, embeddings_for_x.shape[-1]).detach().numpy()"
   ]
  },
  {
   "cell_type": "code",
   "execution_count": null,
   "metadata": {
    "id": "rpPvqPnPWN12"
   },
   "outputs": [],
   "source": [
    "userNameEmbeddings.shape"
   ]
  },
  {
   "cell_type": "code",
   "execution_count": null,
   "metadata": {
    "id": "WXVi1Zz-W2Py"
   },
   "outputs": [],
   "source": [
    "# Agglomerative Clustering (Heirarchial Clustering)\n",
    "clusteringModel = AgglomerativeClustering(n_clusters=None, distance_threshold=11.9)\n",
    "clusteringModel.fit(userNameEmbeddings)\n",
    "clusterAssignment = clusteringModel.labels_"
   ]
  },
  {
   "cell_type": "code",
   "execution_count": null,
   "metadata": {
    "id": "3379NhA0sPAp"
   },
   "outputs": [],
   "source": [
    "# processing clustered data\n",
    "clusteredUsers = defaultdict(set)\n",
    "for userId, clusterId in enumerate(clusterAssignment):\n",
    "    clusteredUsers[clusterId].add(x[userId])"
   ]
  },
  {
   "cell_type": "code",
   "execution_count": null,
   "metadata": {
    "id": "wgyb9T3NtcQA"
   },
   "outputs": [],
   "source": [
    "len(clusteredUsers)"
   ]
  },
  {
   "cell_type": "code",
   "execution_count": null,
   "metadata": {
    "id": "Ylmv6cYCtk6J"
   },
   "outputs": [],
   "source": [
    "clusteredUsers"
   ]
  },
  {
   "cell_type": "code",
   "execution_count": null,
   "metadata": {
    "colab": {
     "base_uri": "https://localhost:8080/"
    },
    "id": "cceGW5phn_Pw",
    "outputId": "43799c3e-f377-4ca0-e314-d49240ab5108"
   },
   "outputs": [],
   "source": [
    "euclidean([userNameEmbeddings[991]], [userNameEmbeddings[992]])"
   ]
  },
  {
   "cell_type": "code",
   "execution_count": null,
   "metadata": {
    "colab": {
     "base_uri": "https://localhost:8080/"
    },
    "id": "TRuA8gKyZcXf",
    "outputId": "c346c3df-608f-4467-a950-e74a8438c85e"
   },
   "outputs": [],
   "source": [
    "cosine([userNameEmbeddings[991]], [userNameEmbeddings[992]])"
   ]
  },
  {
   "cell_type": "markdown",
   "metadata": {
    "id": "Hgd0gAY0wsE8"
   },
   "source": [
    "### Metrics"
   ]
  },
  {
   "cell_type": "code",
   "execution_count": null,
   "metadata": {
    "id": "-pRWN6-3wiaU"
   },
   "outputs": [],
   "source": [
    "# cluster based on same password\n",
    "def clusterByPassword(botDF, userData):\n",
    "  bots = botDF[['username']].drop_duplicates()\n",
    "  botsWithDetails = pd.merge(botDF, userData, on='username')\n",
    "  groupedBots = botsWithDetails.groupby(by='password_id').agg(set)\n",
    "  expectedCluster = {}\n",
    "  for id, cluster in enumerate(groupedBots.username.values):\n",
    "    expectedCluster[id] = cluster\n",
    "  return expectedCluster"
   ]
  },
  {
   "cell_type": "code",
   "execution_count": null,
   "metadata": {
    "id": "DBYXG4pwwmgf"
   },
   "outputs": [],
   "source": [
    "# defining function to get true/predicted edges\n",
    "def getEdges(clusters):\n",
    "  allEdges = set()\n",
    "  for cluster in clusters.values():\n",
    "    edges = set(combinations(cluster, 2))\n",
    "    allEdges |= edges\n",
    "  return allEdges"
   ]
  },
  {
   "cell_type": "code",
   "execution_count": null,
   "metadata": {
    "id": "P8yXKvP5woon"
   },
   "outputs": [],
   "source": [
    "# metric definition\n",
    "def getMetric(n, trueEdges, predictedEdges):\n",
    "  totalEdges = n*((n - 1)/2)\n",
    "  trueEdges = set(map(tuple, map(sorted, trueEdges)))\n",
    "  predictedEdges = set(map(tuple, map(sorted, predictedEdges)))\n",
    "  truePositives = trueEdges & predictedEdges\n",
    "  falsePositives = predictedEdges - trueEdges\n",
    "  print(\"TE/PE:\", len(trueEdges), len(predictedEdges))\n",
    "  print(\"TP/FP:\", len(truePositives), len(falsePositives))\n",
    "  accuracy = len(truePositives)/len(trueEdges)\n",
    "  penalizingFactor = 1 - ((len(falsePositives)*len(truePositives))/totalEdges)\n",
    "  return accuracy*penalizingFactor"
   ]
  },
  {
   "cell_type": "code",
   "execution_count": null,
   "metadata": {
    "id": "0zjDPjyIwq1N"
   },
   "outputs": [],
   "source": [
    "expectedCluster = clusterByPassword(botComments, userData)"
   ]
  },
  {
   "cell_type": "code",
   "execution_count": null,
   "metadata": {
    "id": "GU1kn4GIxTJW"
   },
   "outputs": [],
   "source": [
    "trueEdges = getEdges(expectedCluster)"
   ]
  },
  {
   "cell_type": "code",
   "execution_count": null,
   "metadata": {
    "id": "C10C9Jfzxp6H"
   },
   "outputs": [],
   "source": [
    "predictedEdges = getEdges(clusteredUsers)"
   ]
  },
  {
   "cell_type": "code",
   "execution_count": null,
   "metadata": {
    "id": "hFRxK4oex0BK"
   },
   "outputs": [],
   "source": [
    "n = pd.merge(botComments[['username']].drop_duplicates(), userData, on='username').shape[0]"
   ]
  },
  {
   "cell_type": "code",
   "execution_count": null,
   "metadata": {
    "colab": {
     "base_uri": "https://localhost:8080/"
    },
    "id": "n9436c_Mxs8x",
    "outputId": "246187ba-dc25-4847-d398-bc2cf888a6ee"
   },
   "outputs": [],
   "source": [
    "getMetric(n, trueEdges, predictedEdges)"
   ]
  },
  {
   "cell_type": "code",
   "execution_count": null,
   "metadata": {
    "id": "HuBLEqGNyT4x"
   },
   "outputs": [],
   "source": [
    "userNameToEmbedding = {k: v for k, v in zip(x, userNameEmbeddings)}"
   ]
  },
  {
   "cell_type": "code",
   "execution_count": null,
   "metadata": {},
   "outputs": [],
   "source": [
    "def getEmbedding(username):\n",
    "    return userNameToEmbedding[username]"
   ]
  },
  {
   "cell_type": "code",
   "execution_count": null,
   "metadata": {},
   "outputs": [],
   "source": [
    "embeddings = botComments.username.apply(lambda username: getEmbedding(username))"
   ]
  },
  {
   "cell_type": "code",
   "execution_count": null,
   "metadata": {},
   "outputs": [],
   "source": [
    "embeddings = embeddings.to_numpy()"
   ]
  },
  {
   "cell_type": "code",
   "execution_count": null,
   "metadata": {},
   "outputs": [],
   "source": [
    "embeddings = np.stack(embeddings)"
   ]
  },
  {
   "cell_type": "code",
   "execution_count": null,
   "metadata": {},
   "outputs": [],
   "source": [
    "embeddings.shape"
   ]
  },
  {
   "cell_type": "code",
   "execution_count": null,
   "metadata": {},
   "outputs": [],
   "source": [
    "x.shape"
   ]
  },
  {
   "cell_type": "code",
   "execution_count": null,
   "metadata": {},
   "outputs": [],
   "source": [
    "rem_batch = [x[29184:]]\n",
    "\n",
    "batch_ids_ = indexer.as_padded_tensor(rem_batch)\n",
    "\n",
    "# Feed batch to CharacterBERT & get the embeddings\n",
    "embeddings_for_batch_, _ = model(batch_ids_)\n",
    "embeddings_for_x_ = embeddings_for_batch[0]"
   ]
  },
  {
   "cell_type": "code",
   "execution_count": null,
   "metadata": {},
   "outputs": [],
   "source": [
    "embeddings_for_x_ = embeddings_for_x_.detach().numpy()"
   ]
  },
  {
   "cell_type": "code",
   "execution_count": null,
   "metadata": {},
   "outputs": [],
   "source": [
    "for k, v in zip(rem_batch, embeddings_for_x_):\n",
    "    userNameToEmbedding[k] = v"
   ]
  },
  {
   "cell_type": "code",
   "execution_count": null,
   "metadata": {},
   "outputs": [],
   "source": [
    "rem_batch = rem_batch[0].tolist()"
   ]
  },
  {
   "cell_type": "code",
   "execution_count": null,
   "metadata": {},
   "outputs": [],
   "source": [
    "botComments.shape"
   ]
  },
  {
   "cell_type": "code",
   "execution_count": null,
   "metadata": {},
   "outputs": [],
   "source": [
    "%cd .."
   ]
  },
  {
   "cell_type": "code",
   "execution_count": null,
   "metadata": {},
   "outputs": [],
   "source": [
    "np.save(\"userEmbeddings.npy\", embeddings)"
   ]
  },
  {
   "cell_type": "code",
   "execution_count": null,
   "metadata": {},
   "outputs": [],
   "source": []
  }
 ],
 "metadata": {
  "colab": {
   "collapsed_sections": [],
   "machine_shape": "hm",
   "name": "[3] BotNets",
   "provenance": []
  },
  "kernelspec": {
   "display_name": "conda_python3",
   "language": "python",
   "name": "conda_python3"
  },
  "language_info": {
   "codemirror_mode": {
    "name": "ipython",
    "version": 3
   },
   "file_extension": ".py",
   "mimetype": "text/x-python",
   "name": "python",
   "nbconvert_exporter": "python",
   "pygments_lexer": "ipython3",
   "version": "3.6.13"
  }
 },
 "nbformat": 4,
 "nbformat_minor": 1
}
