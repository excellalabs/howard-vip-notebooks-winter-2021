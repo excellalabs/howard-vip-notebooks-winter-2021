{
 "cells": [
  {
   "cell_type": "code",
   "execution_count": null,
   "id": "varied-spine",
   "metadata": {},
   "outputs": [],
   "source": [
    "import boto3, sys, os, logging, sagemaker\n",
    "import numpy as np                                \n",
    "import pandas as pd   \n",
    "from sklearn.model_selection import train_test_split"
   ]
  },
  {
   "cell_type": "code",
   "execution_count": null,
   "id": "asian-democrat",
   "metadata": {},
   "outputs": [],
   "source": [
    "sys.path.append(\"src\")\n",
    "logging.basicConfig(level=\"INFO\", handlers=[logging.StreamHandler(sys.stdout)],\n",
    "                        format='%(asctime)s - %(name)s - %(levelname)s - %(message)s')\n",
    "\n",
    "sagemaker_session = sagemaker.session.Session()\n",
    "role = sagemaker.get_execution_role()\n",
    "bucket_name = 'howardvip-clinical-data-ashish'\n",
    "    \n",
    "pd.set_option('display.max_rows', 500)"
   ]
  },
  {
   "cell_type": "code",
   "execution_count": null,
   "id": "distinct-interval",
   "metadata": {},
   "outputs": [],
   "source": [
    "def get_table_as_df(table_name, nrows=0):\n",
    "  \n",
    "    data_path = 's3://{}/{}'.format(bucket_name, table_name)\n",
    "    if not nrows:\n",
    "        return pd.read_csv(data_path)\n",
    "    return pd.read_csv(data_path, nrows=nrows)\n",
    "\n",
    "\n"
   ]
  },
  {
   "cell_type": "code",
   "execution_count": null,
   "id": "sized-replication",
   "metadata": {},
   "outputs": [],
   "source": [
    "notes_df = get_table_as_df('NOTEEVENTS.csv.gz',nrows=5000)"
   ]
  },
  {
   "cell_type": "code",
   "execution_count": null,
   "id": "buried-infrastructure",
   "metadata": {},
   "outputs": [],
   "source": [
    "notes_df\n"
   ]
  },
  {
   "cell_type": "code",
   "execution_count": null,
   "id": "animated-miracle",
   "metadata": {},
   "outputs": [],
   "source": [
    "notes_df.TEXT[0]"
   ]
  },
  {
   "cell_type": "code",
   "execution_count": null,
   "id": "friendly-monthly",
   "metadata": {},
   "outputs": [],
   "source": [
    "print(notes_df.TEXT[1])"
   ]
  },
  {
   "cell_type": "markdown",
   "id": "coordinate-walter",
   "metadata": {},
   "source": [
    "**Shuffle rows**"
   ]
  },
  {
   "cell_type": "code",
   "execution_count": null,
   "id": "technical-experience",
   "metadata": {},
   "outputs": [],
   "source": [
    "notes_df =  notes_df.reindex(np.random.permutation(notes_df.index))"
   ]
  },
  {
   "cell_type": "markdown",
   "id": "obvious-values",
   "metadata": {},
   "source": [
    "<font color='red'> \n",
    "    **Replace all NaN**\n",
    "</font>"
   ]
  },
  {
   "cell_type": "code",
   "execution_count": null,
   "id": "surprising-bangkok",
   "metadata": {},
   "outputs": [],
   "source": [
    "for col in notes_df:\n",
    "    notes_df[col].fillna(\"\",inplace=True)"
   ]
  },
  {
   "cell_type": "code",
   "execution_count": null,
   "id": "thick-memorial",
   "metadata": {},
   "outputs": [],
   "source": [
    "notes_df"
   ]
  },
  {
   "cell_type": "markdown",
   "id": "systematic-memorial",
   "metadata": {},
   "source": [
    "**Separate the training, test data, and validation data**"
   ]
  },
  {
   "cell_type": "code",
   "execution_count": null,
   "id": "impressive-exclusive",
   "metadata": {},
   "outputs": [],
   "source": [
    "train, test = train_test_split(notes_df, test_size=0.2)\n",
    "test, val = train_test_split(test, test_size=0.2)"
   ]
  },
  {
   "cell_type": "code",
   "execution_count": null,
   "id": "recognized-nepal",
   "metadata": {},
   "outputs": [],
   "source": []
  }
 ],
 "metadata": {
  "kernelspec": {
   "display_name": "conda_pytorch_p36",
   "language": "python",
   "name": "conda_pytorch_p36"
  },
  "language_info": {
   "codemirror_mode": {
    "name": "ipython",
    "version": 3
   },
   "file_extension": ".py",
   "mimetype": "text/x-python",
   "name": "python",
   "nbconvert_exporter": "python",
   "pygments_lexer": "ipython3",
   "version": "3.6.13"
  }
 },
 "nbformat": 4,
 "nbformat_minor": 5
}
