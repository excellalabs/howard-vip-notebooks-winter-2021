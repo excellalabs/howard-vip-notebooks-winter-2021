{
 "cells": [
  {
   "cell_type": "code",
   "execution_count": null,
   "id": "a92fc832",
   "metadata": {},
   "outputs": [],
   "source": [
    "import boto3\n",
    "import pandas as pd\n",
    "from sagemaker import get_execution_role\n",
    "\n",
    "role = get_execution_role()\n",
    "bucket='howardvip-clinical-data'\n",
    "data_key = 'ADMISSIONS.csv.gz'\n",
    "data_location = 's3://{}/{}'.format(bucket, data_key)\n",
    "\n",
    "admission = pd.read_csv(data_location, compression='gzip', nrows=100)"
   ]
  },
  {
   "cell_type": "code",
   "execution_count": null,
   "id": "fb73d994",
   "metadata": {},
   "outputs": [],
   "source": [
    "data_key = 'NOTEEVENTS.csv.gz'\n",
    "data_location = 's3://{}/{}'.format(bucket, data_key)\n",
    "noteEvents = pd.read_csv(data_location, compression='gzip', nrows=100)"
   ]
  },
  {
   "cell_type": "code",
   "execution_count": null,
   "id": "338ea3ec",
   "metadata": {},
   "outputs": [],
   "source": [
    "noteEvents.head()"
   ]
  },
  {
   "cell_type": "code",
   "execution_count": null,
   "id": "fb182088",
   "metadata": {},
   "outputs": [],
   "source": [
    "data_key = 'OUTPUTEVENTS.csv.gz'\n",
    "data_location = 's3://{}/{}'.format(bucket, data_key)\n",
    "outputEvents = pd.read_csv(data_location, compression='gzip', nrows=100)"
   ]
  },
  {
   "cell_type": "code",
   "execution_count": null,
   "id": "8c681b49",
   "metadata": {},
   "outputs": [],
   "source": [
    "outputEvents"
   ]
  },
  {
   "cell_type": "code",
   "execution_count": null,
   "id": "04efb26a",
   "metadata": {},
   "outputs": [],
   "source": [
    "data_key = 'ICUSTAYS.csv.gz'\n",
    "data_location = 's3://{}/{}'.format(bucket, data_key)\n",
    "ICUstays = pd.read_csv(data_location, compression='gzip', nrows=100)"
   ]
  },
  {
   "cell_type": "code",
   "execution_count": null,
   "id": "eb6a4620",
   "metadata": {},
   "outputs": [],
   "source": [
    "ICUstays"
   ]
  },
  {
   "cell_type": "code",
   "execution_count": null,
   "id": "2d236626",
   "metadata": {},
   "outputs": [],
   "source": [
    "data_key = 'DIAGNOSES_ICD.csv.gz'\n",
    "data_location = 's3://{}/{}'.format(bucket, data_key)\n",
    "Diag = pd.read_csv(data_location, compression='gzip')"
   ]
  },
  {
   "cell_type": "code",
   "execution_count": null,
   "id": "f72adc8d",
   "metadata": {},
   "outputs": [],
   "source": [
    "Diag.nunique()"
   ]
  },
  {
   "cell_type": "code",
   "execution_count": null,
   "id": "a62113db",
   "metadata": {},
   "outputs": [],
   "source": [
    "Diag['ICD9_CODE'].value_counts().head(20)"
   ]
  },
  {
   "cell_type": "code",
   "execution_count": null,
   "id": "7d19009d",
   "metadata": {},
   "outputs": [],
   "source": [
    "v = Diag.SUBJECT_ID.value_counts()\n",
    "Diag[Diag.SUBJECT_ID.isin(v.index[v.gt(5)])]"
   ]
  },
  {
   "cell_type": "code",
   "execution_count": null,
   "id": "7ece11d8",
   "metadata": {},
   "outputs": [],
   "source": [
    "!conda install -c conda-forge ipywidgets -y"
   ]
  },
  {
   "cell_type": "code",
   "execution_count": null,
   "id": "92c173c8",
   "metadata": {},
   "outputs": [],
   "source": [
    "import ipywidgets as widgets\n",
    "from ipywidgets import interact, interact_manual\n",
    "ROW_ID        651047\n",
    "SUBJECT_ID     46520\n",
    "HADM_ID        58976\n",
    "SEQ_NUM           39\n",
    "ICD9_CODE       6984"
   ]
  },
  {
   "cell_type": "code",
   "execution_count": null,
   "id": "d4a35b33",
   "metadata": {},
   "outputs": [],
   "source": [
    "@interact\n",
    "def show_articles_more_than(column=['ROW_ID', 'SUBJECT_ID', 'HADM_ID', 'SEQ_NUM', 'ICD9_CODE'], \n",
    "                            x=(10, 100000, 10)):\n",
    "    return df.loc[df[column] > x]"
   ]
  },
  {
   "cell_type": "code",
   "execution_count": null,
   "id": "2b706db6",
   "metadata": {},
   "outputs": [],
   "source": []
  }
 ],
 "metadata": {
  "kernelspec": {
   "display_name": "conda_python3",
   "language": "python",
   "name": "conda_python3"
  },
  "language_info": {
   "codemirror_mode": {
    "name": "ipython",
    "version": 3
   },
   "file_extension": ".py",
   "mimetype": "text/x-python",
   "name": "python",
   "nbconvert_exporter": "python",
   "pygments_lexer": "ipython3",
   "version": "3.6.13"
  }
 },
 "nbformat": 4,
 "nbformat_minor": 5
}
