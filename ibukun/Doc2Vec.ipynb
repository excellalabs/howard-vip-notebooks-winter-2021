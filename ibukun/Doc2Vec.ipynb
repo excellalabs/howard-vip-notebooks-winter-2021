{
 "cells": [
  {
   "cell_type": "code",
   "execution_count": null,
   "id": "e49655e1",
   "metadata": {},
   "outputs": [],
   "source": [
    "!pip install gensim"
   ]
  },
  {
   "cell_type": "code",
   "execution_count": null,
   "id": "b0467cdb",
   "metadata": {},
   "outputs": [],
   "source": [
    "!pip install python-Levenshtein"
   ]
  },
  {
   "cell_type": "code",
   "execution_count": null,
   "id": "4638537f",
   "metadata": {},
   "outputs": [],
   "source": [
    "import pandas as pd\n",
    "import numpy as np\n",
    "from gensim.models.doc2vec import Doc2Vec, TaggedDocument\n",
    "from gensim.test.utils import common_texts\n",
    "import nltk\n",
    "import string\n",
    "nltk.download('punkt')\n",
    "import pickle"
   ]
  },
  {
   "cell_type": "code",
   "execution_count": null,
   "id": "511f651b",
   "metadata": {},
   "outputs": [],
   "source": [
    "# list of list of words -> [[sentence1 list], [...]]\n",
    "df = pd.read_csv(\"s3://howardvip-clinical-data/clean_noteevents_text.csv\", nrows=50)['0']\n",
    "sents = []\n",
    "for row in df:\n",
    "    sents.append(row)\n",
    "#     sents.extend([list(filter(lambda x: x not in string.punctuation, [word.lower() for word in nltk.word_tokenize(p) if len(word) > 2] )) for p in row.split('\\n') if p])\n",
    "\n",
    "# sents\n",
    "documents = [TaggedDocument(doc, [i]) for i, doc in enumerate(sents)]"
   ]
  },
  {
   "cell_type": "code",
   "execution_count": null,
   "id": "65fa8d7b",
   "metadata": {
    "scrolled": true
   },
   "outputs": [],
   "source": [
    "documents"
   ]
  },
  {
   "cell_type": "code",
   "execution_count": null,
   "id": "1d7826ed",
   "metadata": {},
   "outputs": [],
   "source": [
    "model = Doc2Vec(documents, vector_size=200, window=2, min_count=1, workers=4, epochs=3)"
   ]
  },
  {
   "cell_type": "code",
   "execution_count": null,
   "id": "802d2dc1",
   "metadata": {},
   "outputs": [],
   "source": [
    "t = [\"Cosine similarity is a measure of similarity between two non-zero vectors of an inner product space. It is defined to equal the cosine of the angle between them, which is also the same as the inner product of the same vectors normalized to both have length 1. The cosine of 0° is 1, and it is less than 1 for any angle in the interval (0, π] radians. It is thus a judgment of orientation and not magnitude: two vectors with the same orientation have a cosine similarity of 1, two vectors oriented at \"]\n",
    "cat = model.infer_vector([df[0]], steps=10000)\n",
    "dog = model.infer_vector([df[1]], steps=10000)\n",
    "covid = model.infer_vector(t, steps=10000)"
   ]
  },
  {
   "cell_type": "code",
   "execution_count": null,
   "id": "0ec7b3f7",
   "metadata": {},
   "outputs": [],
   "source": [
    "from sklearn.cluster import KMeans"
   ]
  },
  {
   "cell_type": "code",
   "execution_count": null,
   "id": "2643c019",
   "metadata": {},
   "outputs": [],
   "source": [
    "cluster = KMeans(n_clusters=2).fit([cat, dog, covid])\n",
    "cluster.predict([cat, dog, covid])"
   ]
  },
  {
   "cell_type": "code",
   "execution_count": null,
   "id": "6c45fb43",
   "metadata": {},
   "outputs": [],
   "source": [
    "from numpy import dot\n",
    "from numpy.linalg import norm\n",
    "\n",
    "cos_sim = norm(cat-model.dv[0])\n",
    "cos_sim2 = norm(cat-covid)\n",
    "\n",
    "print(cos_sim)\n",
    "print(cos_sim2)"
   ]
  },
  {
   "cell_type": "code",
   "execution_count": null,
   "id": "3afe36f8",
   "metadata": {},
   "outputs": [],
   "source": [
    "documents"
   ]
  },
  {
   "cell_type": "code",
   "execution_count": null,
   "id": "4889b14b",
   "metadata": {},
   "outputs": [],
   "source": [
    "model.wv.most_similar(positive=['infarction'], topn=10)"
   ]
  },
  {
   "cell_type": "code",
   "execution_count": null,
   "id": "8232ac1f",
   "metadata": {},
   "outputs": [],
   "source": [
    "model = Doc2Vec.load('uncleaned_10000')"
   ]
  },
  {
   "cell_type": "code",
   "execution_count": null,
   "id": "acee2372",
   "metadata": {},
   "outputs": [],
   "source": [
    "model.wv.most_similar(positive=['ventricle'], topn=10)"
   ]
  },
  {
   "cell_type": "code",
   "execution_count": null,
   "id": "bdaf6247",
   "metadata": {},
   "outputs": [],
   "source": [
    "model.dv"
   ]
  }
 ],
 "metadata": {
  "kernelspec": {
   "display_name": "conda_python3",
   "language": "python",
   "name": "conda_python3"
  },
  "language_info": {
   "codemirror_mode": {
    "name": "ipython",
    "version": 3
   },
   "file_extension": ".py",
   "mimetype": "text/x-python",
   "name": "python",
   "nbconvert_exporter": "python",
   "pygments_lexer": "ipython3",
   "version": "3.6.13"
  }
 },
 "nbformat": 4,
 "nbformat_minor": 5
}
