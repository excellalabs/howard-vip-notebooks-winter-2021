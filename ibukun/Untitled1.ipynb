{
 "cells": [
  {
   "cell_type": "code",
   "execution_count": null,
   "id": "fbb36049",
   "metadata": {},
   "outputs": [],
   "source": [
    "import pandas as pd\n",
    "import re\n",
    "from collections import Counter"
   ]
  },
  {
   "cell_type": "code",
   "execution_count": null,
   "id": "568b50af",
   "metadata": {},
   "outputs": [],
   "source": [
    "df = pd.read_csv('NOTEEVENTS.csv.gz', nrows=10000)['TEXT']\n",
    "stars = []\n",
    "for row in df:\n",
    "    for x in re.findall(r'\\[\\*\\*.+?\\*\\*\\]', row):\n",
    "        stars.append(x)\n",
    "counts = Counter(stars)\n",
    "counts.most_common(100)"
   ]
  }
 ],
 "metadata": {
  "kernelspec": {
   "display_name": "conda_python3",
   "language": "python",
   "name": "conda_python3"
  },
  "language_info": {
   "codemirror_mode": {
    "name": "ipython",
    "version": 3
   },
   "file_extension": ".py",
   "mimetype": "text/x-python",
   "name": "python",
   "nbconvert_exporter": "python",
   "pygments_lexer": "ipython3",
   "version": "3.6.13"
  }
 },
 "nbformat": 4,
 "nbformat_minor": 5
}
