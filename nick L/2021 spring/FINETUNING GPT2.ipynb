{
 "cells": [
  {
   "cell_type": "code",
   "execution_count": null,
   "id": "23ea12a7",
   "metadata": {},
   "outputs": [],
   "source": [
    "import shutil\n",
    "shutil.rmtree('/home/ec2-user/SageMaker/models')\n",
    "shutil.rmtree('/home/ec2-user/SageMaker/checkpoint')"
   ]
  },
  {
   "cell_type": "code",
   "execution_count": null,
   "id": "61cab6e8",
   "metadata": {
    "scrolled": true
   },
   "outputs": [],
   "source": [
    "import gpt_2_simple as gpt2\n",
    "import os\n",
    "#gpt2.encode_dataset('csv_encoded.txt',model_name=\"117M\",combine=10000)\n",
    "#gpt2.encode_csv('FULLY_clean_noteevents_text.csv')\n",
    "os.listdir('/home/ec2-user/SageMaker/splittexts')\n",
    "#/home/ec2-user/SageMaker/encodedTexts\n",
    "for file in os.listdir('/home/ec2-user/SageMaker/splittexts'):\n",
    "    gpt2.encode_dataset('/home/ec2-user/SageMaker/splittexts/{}'.format(file),model_name=\"117M\", out_path='/home/ec2-user/SageMaker/encodedTexts/{}.npz'.format(os.path.splitext(file)[0]))"
   ]
  },
  {
   "cell_type": "code",
   "execution_count": null,
   "id": "b94873ac",
   "metadata": {},
   "outputs": [],
   "source": [
    "with open(\"csv_encoded.txt\") as file_in:\n",
    "    lines = []\n",
    "    count = 0\n",
    "    for line in file_in:\n",
    "        if count >= 10:\n",
    "            break\n",
    "        count += 1\n",
    "        print(line)"
   ]
  },
  {
   "cell_type": "code",
   "execution_count": null,
   "id": "4efdd14a",
   "metadata": {},
   "outputs": [],
   "source": [
    "import gpt_2_simple as gpt2\n",
    "import os\n",
    "import tensorflow as tf\n",
    "model_name = \"117M\"\n",
    "gpt2.download_gpt2(model_name=model_name)   # model is saved into current directory under /models/117M/"
   ]
  },
  {
   "cell_type": "code",
   "execution_count": null,
   "id": "822baa1c",
   "metadata": {},
   "outputs": [],
   "source": [
    "stepsCount = 50\n",
    "sess = gpt2.start_tf_sess()\n",
    "for file in os.listdir('/home/ec2-user/SageMaker/encodedTexts/'):\n",
    "    #gpt2.load_gpt2(sess, model_name=model_name)\n",
    "    sess = gpt2.start_tf_sess()\n",
    "    gpt2.finetune(sess,'/home/ec2-user/SageMaker/encodedTexts/{}'.format(file),model_name=model_name,steps=stepsCount,save_every=100,overwrite=True)   # steps is max number of training steps\n",
    "    stepsCount += 50\n",
    "    tf.reset_default_graph()\n",
    "    print(stepsCount)\n",
    "\n",
    "gpt2.generate(sess)"
   ]
  },
  {
   "cell_type": "code",
   "execution_count": null,
   "id": "a686cc76",
   "metadata": {},
   "outputs": [],
   "source": [
    "import gpt_2_simple as gpt2\n",
    "import tensorflow as tf\n",
    "tf.reset_default_graph()\n",
    "sess = gpt2.start_tf_sess()\n",
    "logits = gpt2.get_logits(sess)\n",
    "#gpt2.generate(sess,include_prefix=False)\n",
    "logits['logits']"
   ]
  },
  {
   "cell_type": "code",
   "execution_count": null,
   "id": "fad90d12",
   "metadata": {},
   "outputs": [],
   "source": [
    "from sklearn.cluster import KMeans\n",
    "import numpy as np\n",
    "#X = np.array()\n",
    "kmeans = KMeans(n_clusters=2, random_state=0).fit(logits['logits'].eval())\n",
    "kmeans.labels_"
   ]
  },
  {
   "cell_type": "code",
   "execution_count": null,
   "id": "08db1850",
   "metadata": {},
   "outputs": [],
   "source": [
    "kmeans.predict([[0, 0], [12, 3]])\n",
    "kmeans.cluster_centers_"
   ]
  },
  {
   "cell_type": "code",
   "execution_count": null,
   "id": "918e3a51",
   "metadata": {},
   "outputs": [],
   "source": [
    "pip install git+git://github.com/howard56k/gpt-2-simple.git"
   ]
  },
  {
   "cell_type": "code",
   "execution_count": null,
   "id": "09ec49ea",
   "metadata": {},
   "outputs": [],
   "source": [
    "import inspect\n",
    "tf.reset_default_graph()\n",
    "sess = gpt2.start_tf_sess()\n",
    "\n",
    "inspect.getsourcelines(gpt2.load_gpt2(sess)) "
   ]
  },
  {
   "cell_type": "code",
   "execution_count": null,
   "id": "cc42c203",
   "metadata": {},
   "outputs": [],
   "source": [
    "import pandas as pd\n",
    "test = pd.read_csv('FULLY_clean_noteevents_text.csv')\n",
    "\n",
    "test.head()"
   ]
  },
  {
   "cell_type": "code",
   "execution_count": null,
   "id": "7b85cfbe",
   "metadata": {},
   "outputs": [],
   "source": [
    "test = test.drop(columns=['Unnamed: 0'])\n",
    "test.head()"
   ]
  },
  {
   "cell_type": "code",
   "execution_count": null,
   "id": "6d18d64f",
   "metadata": {},
   "outputs": [],
   "source": [
    "test.to_csv('FULLY_clean_noteevents_text.csv',index=False)"
   ]
  },
  {
   "cell_type": "code",
   "execution_count": null,
   "id": "df551aa6",
   "metadata": {},
   "outputs": [],
   "source": []
  }
 ],
 "metadata": {
  "kernelspec": {
   "display_name": "conda_tensorflow_p36",
   "language": "python",
   "name": "conda_tensorflow_p36"
  },
  "language_info": {
   "codemirror_mode": {
    "name": "ipython",
    "version": 3
   },
   "file_extension": ".py",
   "mimetype": "text/x-python",
   "name": "python",
   "nbconvert_exporter": "python",
   "pygments_lexer": "ipython3",
   "version": "3.6.13"
  }
 },
 "nbformat": 4,
 "nbformat_minor": 5
}
