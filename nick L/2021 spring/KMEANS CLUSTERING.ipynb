{
 "cells": [
  {
   "cell_type": "code",
   "execution_count": null,
   "id": "d8398d63",
   "metadata": {},
   "outputs": [],
   "source": [
    "import gpt_2_simple as gpt2\n",
    "import tensorflow as tf\n",
    "tf.reset_default_graph()\n",
    "sess = gpt2.start_tf_sess()\n",
    "logits = gpt2.get_logits(sess)\n",
    "#gpt2.generate(sess,include_prefix=False)\n",
    "print(logits['logits'].get_shape())\n",
    "print(type(logits['logits']))"
   ]
  },
  {
   "cell_type": "code",
   "execution_count": null,
   "id": "8d2f7eca",
   "metadata": {},
   "outputs": [],
   "source": [
    "from sklearn.cluster import KMeans\n",
    "import numpy as np\n",
    "#X = np.array()\n",
    "tf.reset_default_graph()\n",
    "\n",
    "context = tf.compat.v1.placeholder(tf.int32, [1, None])\n",
    "\n",
    "sess2 = tf.Session()\n",
    "sess2.run(tf.global_variables_initializer())\n",
    "logitsTfVar = logits['logits'].eval(session=sess2)\n",
    "\n",
    "tf.reset_default_graph()\n",
    "sess = tf.Session()\n",
    "sess.run(tf.global_variables_initializer())\n",
    "\n",
    "#logitsTfVar = tf.Variable(logits['logits'],validate_shape=False)\n",
    "#logitsTfVar = tf.constant(logitsTfVar)\n",
    "#logitsTfVar = tf.reshape(logitsTfVar, [1, None ,50257])\n",
    "\n",
    "\n",
    "\n",
    "with sess.as_default():\n",
    "    kmeans = KMeans(n_clusters=3, random_state=0).fit(logitsTfVar)\n",
    "kmeans.labels_"
   ]
  },
  {
   "cell_type": "code",
   "execution_count": null,
   "id": "b10d02ec",
   "metadata": {},
   "outputs": [],
   "source": [
    "## Generate synthetic data\n",
    "N,D = 1000, 2 # number of points and dimenstinality\n",
    "\n",
    "#means = tf.make_ndarray(tf.Variable(logits['logits'],validate_shape=False))\n",
    "\n",
    "means = tf.Variable(logits['logits'],validate_shape=False)\n",
    "\n",
    "#means = logits['logits']\n",
    "\n",
    "## construct model\n",
    "kmeans = tf.contrib.learn.KMeansClustering(num_clusters = 3, relative_tolerance=0.0001)\n",
    "kmeans.fit(input_fn=means)\n",
    "centers = kmeans.clusters()\n",
    "print(centers)\n",
    "\n",
    "\"\"\"\n",
    "context = tf.compat.v1.placeholder(tf.int32, [1, None])\n",
    "\n",
    "gpus = []\n",
    "if multi_gpu:\n",
    "    gpus = get_available_gpus()\n",
    "\n",
    "output = model.model(hparams=hparams, X=context, gpus=gpus)\n",
    "\n",
    "\"\"\""
   ]
  },
  {
   "cell_type": "code",
   "execution_count": null,
   "id": "939a3b4d",
   "metadata": {},
   "outputs": [],
   "source": [
    "kmeans.predict([[0, 0], [12, 3]])\n",
    "kmeans.cluster_centers_"
   ]
  },
  {
   "cell_type": "code",
   "execution_count": null,
   "id": "24af6c66",
   "metadata": {},
   "outputs": [],
   "source": [
    "pip install git+git://github.com/howard56k/gpt-2-simple.git"
   ]
  },
  {
   "cell_type": "code",
   "execution_count": null,
   "id": "b892c00e",
   "metadata": {},
   "outputs": [],
   "source": []
  }
 ],
 "metadata": {
  "kernelspec": {
   "display_name": "conda_tensorflow_p36",
   "language": "python",
   "name": "conda_tensorflow_p36"
  },
  "language_info": {
   "codemirror_mode": {
    "name": "ipython",
    "version": 3
   },
   "file_extension": ".py",
   "mimetype": "text/x-python",
   "name": "python",
   "nbconvert_exporter": "python",
   "pygments_lexer": "ipython3",
   "version": "3.6.13"
  }
 },
 "nbformat": 4,
 "nbformat_minor": 5
}
