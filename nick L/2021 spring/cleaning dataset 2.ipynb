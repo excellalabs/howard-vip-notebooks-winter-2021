{
 "cells": [
  {
   "cell_type": "code",
   "execution_count": null,
   "id": "norwegian-bunny",
   "metadata": {},
   "outputs": [],
   "source": []
  },
  {
   "cell_type": "code",
   "execution_count": null,
   "id": "greatest-bedroom",
   "metadata": {},
   "outputs": [],
   "source": [
    "import pandas as pd\n",
    "import numpy as np\n",
    "import nltk\n",
    "import pickle\n",
    "import pyLDAvis.sklearn\n",
    "from collections import Counter\n",
    "from textblob import TextBlob\n",
    "from nltk.tokenize import word_tokenize\n",
    "from nltk.probability import FreqDist\n",
    "from sklearn.feature_extraction.text import CountVectorizer\n",
    "from sklearn.feature_extraction.text import TfidfVectorizer\n",
    "from sklearn.decomposition import LatentDirichletAllocation, NMF\n",
    "from wordcloud import WordCloud, ImageColorGenerator\n",
    "import matplotlib.pyplot as plt\n",
    "import seaborn as sns"
   ]
  },
  {
   "cell_type": "code",
   "execution_count": null,
   "id": "processed-sailing",
   "metadata": {},
   "outputs": [],
   "source": [
    "%matplotlib inline\n",
    "pd.options.mode.chained_assignment = None\n",
    "pd.set_option('display.max_colwidth', 100)\n",
    "with open('test_notebooks_events_scrape_2500_clean.csv', 'rb') as pickle_file:\n",
    "    textClean = pd.read_csv(pickle_file)"
   ]
  },
  {
   "cell_type": "code",
   "execution_count": null,
   "id": "otherwise-circle",
   "metadata": {},
   "outputs": [],
   "source": [
    "textClean['lemma_str'] = [' '.join(map(str,l)) for l in textClean['lemmatized']]\n",
    "textClean.head()"
   ]
  },
  {
   "cell_type": "code",
   "execution_count": null,
   "id": "severe-klein",
   "metadata": {},
   "outputs": [],
   "source": [
    "textClean['sentiment'] = textClean['lemma_str'].apply(lambda x: TextBlob(x).sentiment.polarity)\n",
    "textClean.head()"
   ]
  },
  {
   "cell_type": "code",
   "execution_count": null,
   "id": "obvious-hometown",
   "metadata": {},
   "outputs": [],
   "source": [
    "plt.figure(figsize=(50,30))\n",
    "plt.margins(0.02)\n",
    "plt.xlabel('Sentiment', fontsize=50)\n",
    "plt.xticks(fontsize=40)\n",
    "plt.ylabel('Frequency', fontsize=50)\n",
    "plt.yticks(fontsize=40)\n",
    "plt.hist(textClean['sentiment'], bins=50)\n",
    "plt.title('Sentiment Distribution', fontsize=60)\n",
    "plt.show()"
   ]
  },
  {
   "cell_type": "code",
   "execution_count": null,
   "id": "distinguished-cannon",
   "metadata": {},
   "outputs": [],
   "source": [
    "words = textClean['lemmatized']\n",
    "allwords = []\n",
    "for wordlist in words:\n",
    "    allwords += wordlist\n",
    "print(allwords)"
   ]
  },
  {
   "cell_type": "code",
   "execution_count": null,
   "id": "static-boring",
   "metadata": {},
   "outputs": [],
   "source": [
    "mostcommon = FreqDist(allwords).most_common(100)\n",
    "wordcloud = WordCloud(width=1600, height=800, background_color='white').generate(str(mostcommon))\n",
    "fig = plt.figure(figsize=(30,10), facecolor='white')\n",
    "plt.imshow(wordcloud, interpolation=\"bilinear\")\n",
    "plt.axis('off')\n",
    "plt.title('Top 100 Most Common Words', fontsize=100)\n",
    "plt.tight_layout(pad=0)\n",
    "plt.show()"
   ]
  },
  {
   "cell_type": "code",
   "execution_count": null,
   "id": "broadband-pride",
   "metadata": {},
   "outputs": [],
   "source": [
    "%matplotlib notebook\n",
    "mostcommon_small = FreqDist(allwords).most_common(25)\n",
    "x, y = zip(*mostcommon_small)\n",
    "plt.figure(figsize=(50,30))\n",
    "plt.margins(0.02)\n",
    "plt.bar(x, y)\n",
    "plt.xlabel('Words', fontsize=50)\n",
    "plt.ylabel('Frequency of Words', fontsize=50)\n",
    "plt.yticks(fontsize=40)\n",
    "plt.xticks(rotation=60, fontsize=40)\n",
    "plt.title('Frequency of 25 Most Common Words', fontsize=60)\n",
    "plt.show()"
   ]
  },
  {
   "cell_type": "code",
   "execution_count": null,
   "id": "responsible-monster",
   "metadata": {},
   "outputs": [],
   "source": []
  }
 ],
 "metadata": {
  "kernelspec": {
   "display_name": "conda_pytorch_p36",
   "language": "python",
   "name": "conda_pytorch_p36"
  },
  "language_info": {
   "codemirror_mode": {
    "name": "ipython",
    "version": 3
   },
   "file_extension": ".py",
   "mimetype": "text/x-python",
   "name": "python",
   "nbconvert_exporter": "python",
   "pygments_lexer": "ipython3",
   "version": "3.6.13"
  }
 },
 "nbformat": 4,
 "nbformat_minor": 5
}
