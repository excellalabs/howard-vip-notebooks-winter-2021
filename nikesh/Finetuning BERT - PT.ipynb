{
 "cells": [
  {
   "cell_type": "code",
   "execution_count": null,
   "id": "d07e417d",
   "metadata": {},
   "outputs": [],
   "source": [
    "!pip install transformers"
   ]
  },
  {
   "cell_type": "code",
   "execution_count": null,
   "id": "94a9da84",
   "metadata": {},
   "outputs": [],
   "source": [
    "import transformers\n",
    "import pandas as pd\n",
    "import torch"
   ]
  },
  {
   "cell_type": "code",
   "execution_count": null,
   "id": "5bd1cc19",
   "metadata": {},
   "outputs": [],
   "source": [
    "text = pd.read_csv('s3://howardvip-clinical-data/clean_noteevents_text.csv')"
   ]
  },
  {
   "cell_type": "code",
   "execution_count": null,
   "id": "e7975a9e",
   "metadata": {},
   "outputs": [],
   "source": [
    "text = text.drop(text.columns[0],axis = 1)\n",
    "text.columns = ['text']"
   ]
  },
  {
   "cell_type": "code",
   "execution_count": null,
   "id": "85daebc1",
   "metadata": {},
   "outputs": [],
   "source": [
    "text= text.text.to_numpy()"
   ]
  },
  {
   "cell_type": "code",
   "execution_count": null,
   "id": "59ebf8f5",
   "metadata": {},
   "outputs": [],
   "source": [
    "model = transformers.BertForPreTraining.from_pretrained(\"bert-base-uncased\")"
   ]
  },
  {
   "cell_type": "code",
   "execution_count": null,
   "id": "2f8ed044",
   "metadata": {},
   "outputs": [],
   "source": [
    "tokenizer = transformers.BertTokenizer.from_pretrained('bert-base-uncased')"
   ]
  },
  {
   "cell_type": "code",
   "execution_count": null,
   "id": "a3b3565c",
   "metadata": {},
   "outputs": [],
   "source": [
    "from sklearn.cluster import KMeans"
   ]
  },
  {
   "cell_type": "code",
   "execution_count": null,
   "id": "0e186bf9",
   "metadata": {},
   "outputs": [],
   "source": [
    "import numpy as np"
   ]
  },
  {
   "cell_type": "code",
   "execution_count": null,
   "id": "3c743329",
   "metadata": {},
   "outputs": [],
   "source": [
    "sample = np.random.choice(text, 50000)"
   ]
  },
  {
   "cell_type": "code",
   "execution_count": null,
   "id": "fdcfc15d",
   "metadata": {},
   "outputs": [],
   "source": [
    "import numpy as np"
   ]
  },
  {
   "cell_type": "code",
   "execution_count": null,
   "id": "9de862d2",
   "metadata": {},
   "outputs": [],
   "source": [
    "from tqdm import tqdm"
   ]
  },
  {
   "cell_type": "code",
   "execution_count": null,
   "id": "40cd5776",
   "metadata": {},
   "outputs": [],
   "source": [
    "total = []\n",
    "for i in tqdm(sample):\n",
    "    res = None\n",
    "    length = len(tokenizer.encode(i))\n",
    "    if length>512:\n",
    "        while len(i)!=0:\n",
    "            x = tokenizer(i,truncation = True, max_length = 512,return_tensors='pt')\n",
    "            out = model.bert(**x).pooler_output.detach().numpy()\n",
    "            if res is None:\n",
    "                res = out\n",
    "            else:\n",
    "                res = np.append(res,out,axis = 0)\n",
    "            i = i[512:]\n",
    "    else:\n",
    "        x = tokenizer(i,truncation = True, max_length = 512,return_tensors='pt')\n",
    "        res = (model.bert(**x).pooler_output).detach().numpy()\n",
    "    if res.shape[0]>1:\n",
    "        total.append(np.mean(res, axis=0).reshape(1,768))\n",
    "    else:\n",
    "        total.append(res)\n",
    "total = np.array(total)      "
   ]
  },
  {
   "cell_type": "code",
   "execution_count": null,
   "id": "edb783e0",
   "metadata": {},
   "outputs": [],
   "source": [
    "total.shape"
   ]
  },
  {
   "cell_type": "code",
   "execution_count": null,
   "id": "44cf78fe",
   "metadata": {},
   "outputs": [],
   "source": [
    "clus_x = total.reshape(500,768)"
   ]
  },
  {
   "cell_type": "code",
   "execution_count": null,
   "id": "425645d9",
   "metadata": {},
   "outputs": [],
   "source": [
    "clus = KMeans(n_clusters = 4).fit(clus_x)"
   ]
  },
  {
   "cell_type": "code",
   "execution_count": null,
   "id": "e3de6cfd",
   "metadata": {},
   "outputs": [],
   "source": [
    "labels = clus.predict(clus_x)"
   ]
  },
  {
   "cell_type": "code",
   "execution_count": null,
   "id": "fd47efd5",
   "metadata": {},
   "outputs": [],
   "source": [
    "from sklearn.decomposition import PCA"
   ]
  },
  {
   "cell_type": "code",
   "execution_count": null,
   "id": "4a773c7b",
   "metadata": {},
   "outputs": [],
   "source": [
    "coords = PCA(2).fit_transform(clus_x)"
   ]
  },
  {
   "cell_type": "code",
   "execution_count": null,
   "id": "5cbfca2d",
   "metadata": {},
   "outputs": [],
   "source": [
    "import seaborn as sn\n",
    "import matplotlib.pyplot as plt"
   ]
  },
  {
   "cell_type": "code",
   "execution_count": null,
   "id": "4b080506",
   "metadata": {},
   "outputs": [],
   "source": [
    "coords = np.vstack((coords.T,labels)).T"
   ]
  },
  {
   "cell_type": "code",
   "execution_count": null,
   "id": "4e95516f",
   "metadata": {},
   "outputs": [],
   "source": [
    "pca_df = pd.DataFrame(coords, columns = (\"1st component\",\"2nd component\",\"label\"))"
   ]
  },
  {
   "cell_type": "code",
   "execution_count": null,
   "id": "85ea2fe0",
   "metadata": {},
   "outputs": [],
   "source": [
    "sn.FacetGrid(pca_df, hue=\"label\",height = 8).map(plt.scatter,\"1st component\",\"2nd component\").add_legend()"
   ]
  },
  {
   "cell_type": "code",
   "execution_count": null,
   "id": "6e1a289b",
   "metadata": {},
   "outputs": [],
   "source": [
    "from sklearn.cluster import AgglomerativeClustering"
   ]
  },
  {
   "cell_type": "code",
   "execution_count": null,
   "id": "e08c6dce",
   "metadata": {},
   "outputs": [],
   "source": [
    "newclus = AgglomerativeClustering(n_clusters = 4).fit_predict(clus_x)\n",
    "labels = newclus\n",
    "coords = PCA(2).fit_transform(clus_x)\n",
    "coords = np.vstack((coords.T,labels)).T\n",
    "pca_df = pd.DataFrame(coords, columns = (\"1st component\",\"2nd component\",\"label\"))\n",
    "sn.FacetGrid(pca_df, hue=\"label\",height = 8).map(plt.scatter,\"1st component\",\"2nd component\").add_legend()"
   ]
  },
  {
   "cell_type": "code",
   "execution_count": null,
   "id": "dba5f115",
   "metadata": {},
   "outputs": [],
   "source": [
    "from sklearn.cluster import SpectralClustering"
   ]
  },
  {
   "cell_type": "code",
   "execution_count": null,
   "id": "41d68b7b",
   "metadata": {},
   "outputs": [],
   "source": [
    "newclus = SpectralClustering(n_clusters = 8).fit_predict(clus_x)\n",
    "labels = newclus\n",
    "coords = PCA(2).fit_transform(clus_x)\n",
    "coords = np.vstack((coords.T,labels)).T\n",
    "pca_df = pd.DataFrame(coords, columns = (\"1st component\",\"2nd component\",\"label\"))\n",
    "sn.FacetGrid(pca_df, hue=\"label\",height = 8).map(plt.scatter,\"1st component\",\"2nd component\").add_legend()"
   ]
  },
  {
   "cell_type": "code",
   "execution_count": null,
   "id": "51803903",
   "metadata": {},
   "outputs": [],
   "source": []
  }
 ],
 "metadata": {
  "kernelspec": {
   "display_name": "conda_pytorch_latest_p36",
   "language": "python",
   "name": "conda_pytorch_latest_p36"
  },
  "language_info": {
   "codemirror_mode": {
    "name": "ipython",
    "version": 3
   },
   "file_extension": ".py",
   "mimetype": "text/x-python",
   "name": "python",
   "nbconvert_exporter": "python",
   "pygments_lexer": "ipython3",
   "version": "3.6.13"
  }
 },
 "nbformat": 4,
 "nbformat_minor": 5
}
