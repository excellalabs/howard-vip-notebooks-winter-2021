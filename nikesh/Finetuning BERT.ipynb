{
 "cells": [
  {
   "cell_type": "code",
   "execution_count": null,
   "id": "9e66329c",
   "metadata": {},
   "outputs": [],
   "source": [
    "!pip install --upgrade transformers\n",
    "!pip install tensorflow_datasets\n",
    "!pip install --upgrade tensorflow\n",
    "!pip install tensorflow_datasets"
   ]
  },
  {
   "cell_type": "code",
   "execution_count": null,
   "id": "dbf5b6a6",
   "metadata": {},
   "outputs": [],
   "source": [
    "import tensorflow as tf\n",
    "import tensorflow_datasets as tfds\n",
    "import transformers\n",
    "import pandas as pd"
   ]
  },
  {
   "cell_type": "code",
   "execution_count": null,
   "id": "b6040787",
   "metadata": {},
   "outputs": [],
   "source": [
    "text = pd.read_csv('clean.csv')"
   ]
  },
  {
   "cell_type": "code",
   "execution_count": null,
   "id": "b64f8c35",
   "metadata": {},
   "outputs": [],
   "source": [
    "text = text.drop(text.columns[0],axis = 1)\n",
    "text.columns = ['text']"
   ]
  },
  {
   "cell_type": "code",
   "execution_count": null,
   "id": "2eaeda42",
   "metadata": {},
   "outputs": [],
   "source": [
    "text= text.text.to_numpy()"
   ]
  },
  {
   "cell_type": "code",
   "execution_count": null,
   "id": "348a47c6",
   "metadata": {},
   "outputs": [],
   "source": [
    "text"
   ]
  },
  {
   "cell_type": "code",
   "execution_count": null,
   "id": "350490ef",
   "metadata": {},
   "outputs": [],
   "source": [
    "model = transformers.TFBertForPreTraining.from_pretrained(\"bert-base-uncased\")"
   ]
  },
  {
   "cell_type": "code",
   "execution_count": null,
   "id": "1ad39228",
   "metadata": {},
   "outputs": [],
   "source": [
    "tokenizer = transformers.BertTokenizer.from_pretrained('bert-base-cased')"
   ]
  },
  {
   "cell_type": "code",
   "execution_count": null,
   "id": "8d920a67",
   "metadata": {},
   "outputs": [],
   "source": [
    "tokenizer(text[2][0:100])"
   ]
  },
  {
   "cell_type": "code",
   "execution_count": null,
   "id": "9dbea175",
   "metadata": {},
   "outputs": [],
   "source": [
    "text[2]"
   ]
  },
  {
   "cell_type": "code",
   "execution_count": null,
   "id": "9e2432e5",
   "metadata": {},
   "outputs": [],
   "source": [
    "model."
   ]
  },
  {
   "cell_type": "code",
   "execution_count": null,
   "id": "a9c83373",
   "metadata": {},
   "outputs": [],
   "source": [
    "inputs = tokenizer(text[2], padding=True,return_tensors=\"tf\")\n",
    "inputs"
   ]
  },
  {
   "cell_type": "code",
   "execution_count": null,
   "id": "ae0873fe",
   "metadata": {
    "scrolled": true
   },
   "outputs": [],
   "source": [
    "len(tokenizer(max(text,key=len))['input_ids'])"
   ]
  },
  {
   "cell_type": "code",
   "execution_count": null,
   "id": "caf507f6",
   "metadata": {},
   "outputs": [],
   "source": [
    "x = [  101, 24930, 11234, 14265,   131, 20915,  1580,   118,   126,\n",
    "          118,   125, 14856,  7111,  2176, 14265,   131, 20915,  1580,\n",
    "          118,   126,   118,  1512,  2516,   131,  8784, 23354, 19368,\n",
    "        24162,  9565,  8101,  9741,  1398,  1200, 19310,   131,  7277,\n",
    "         2858,  3309, 18351,  1335, 22835,   131, 10984,  2534,  3291,\n",
    "         8223, 15858,  1204,   131,  5615, 26063,   143,  5427,  1197,\n",
    "          192,   120, 18732, 15481,   117,  5199,   157, 27616,   117,\n",
    "          188,   120,   185,   189, 19366,  4638, 12809,  3484,  8401,\n",
    "         1643, 19268,  1183,   126,   118,   126,   188,   120,   185,\n",
    "         1679,  1665,   189, 19366,  1324,   126,   118,  1492,  2868,\n",
    "        17078, 20851,  1137,  1130, 25007,  5096,  9650,  3313,   131,\n",
    "         9304,  1320,  8401, 11428,  5005,   124,   120,  1955,   117,\n",
    "          125,   120,   123,   117,   124,   117,   127,   118,  1367,\n",
    "          117,   126,   118,  1542,   117,   126,   118,  1627,   188,\n",
    "          120,   185,   189, 19366, 13836,  1233,  1643, 19268,  1183,\n",
    "          126,   118,   126,  1679, 12734, 13064,   189, 19366,  4638,\n",
    "        15540, 18574,   126,   118,  1492,  1170,  2604,  4252, 25098,\n",
    "         1891,  1205,  2060,   189, 19366,  1324,  1113,   126,   118,\n",
    "         1512,  1106,  2060,   127, 16408, 25754,  1116,  2892,  1104,\n",
    "        13653,  9190, 21615,  5800,   131,  1188,  5615,  1214,  1385,\n",
    "         1590,  1144,   170,  1607,  1104, 18732, 15481,   119,  3278,\n",
    "         1103,  1763,  1421,  1201,  1131,  1144,  1125,  8706,  7866,\n",
    "         1114,  1123,  4943,   119,  1130, 20915,  1604,   118,   127,\n",
    "          118,   125,  1131,  1108,  4120,  1106,  3139,  2340,  3355,\n",
    "         1104,  2685,  1756,  1111, 19192,  4290,  1496,  1106,   170,\n",
    "        18732, 15481,  4252,  7954, 26281,  1891,   119,  4187,  1106,\n",
    "        15970,   177,  1183, 26466, 20504,   117,  1131,  2320,  1107,\n",
    "        25098,  1891,  1105,   170,  9288,  9304,  1320,  8401, 11428,\n",
    "         5005,  1113, 20915,  1604,   118,   127,   118,   130,  3090,\n",
    "         3597, 25277,  1104,  1103,  1586,  8520,  1113,  4252, 22631,\n",
    "         8080,  1114,   189, 19366,  4638,  7903,  1742,  6052,   119,\n",
    "         1153,  2886,  9315, 12693,  1104,  1160, 22818,  1162,   188,\n",
    "         5208,  2145,   117,  1141,  1107,  1103,  1286,  1514,  8175,\n",
    "         1105,  1141,  1107,  1103,   189, 19366, 13836,   119,  1507,\n",
    "         1103, 10296,  1103,  5351,  1125, 11344,  1104,  2229,  2489,\n",
    "         1105,  4741,  1149,  1111,  1126, 26574,   119,  1153,  1108,\n",
    "         2886, 15207,  1106,  6584,  2227,  3225,  8857,  3875,  1945,\n",
    "         1111,  2952,  1105, 26600,  1231, 17266,   119, 20777, 13448,\n",
    "         9304,  1320,  8401, 11428,  5005,  1113, 20915,  1604,   118,\n",
    "          129,   118,   122,  3090,   176,  4047,  6856,  7918,  1120,\n",
    "         1103,  4267, 19760,  1268, 11937,  2095,  1104,  1103,   189,\n",
    "        19366, 13836,  1233,   188,  5208,  1204,   119,  1247,  1108,\n",
    "         2418, 12477,  1742,  6052,  1104,  1103, 17963,  1105,  2129,\n",
    "         1586,  8520,  1114,  2335,  7546,  1104,  1103,  1586,  8520,\n",
    "         1113, 24992,  1105,  2257,  4252, 22631,   119,  6844,  6873,\n",
    "        11806,  1127,  1145,  2382,  1113,  1103,  5563, 13408,  1116,\n",
    "          119,  1153,  1144,  3535,  8331,  1107,  1123, 19192,  2781,\n",
    "          117,  1133,  1211,  3055,  1144,  1151,  1107,  6145,  1114,\n",
    "         1987,   119,  5460, 11818,  4423,  1936,   189, 19366,  4638,\n",
    "        12809,  3484, 27018,  1233,   185, 19268,  1183,  1114, 24000,\n",
    "          119,   157, 19366, 13836,  1233,   188,  5208,  2145,   173,\n",
    "          120,   172, 20915,  1580,   118,   125,   118,  1627,  1107,\n",
    "        11468,  1104,  6059,   119,  1130,  2538,  1104,  8006,   117,\n",
    "         1131,  4856,  1242,  1201,  1104, 27946,  2229,  2489,  1115,\n",
    "         1131,  4856,  1112,  1286, 11641,  1105,  9939,  1120,  1251,\n",
    "         1159,   119,  7199,   117,  1131, 15749,  1122,  1164,  1210,\n",
    "         1551,   170,  1989,   117,  1105,  2231,  1115,   102]"
   ]
  },
  {
   "cell_type": "code",
   "execution_count": null,
   "id": "87dd346f",
   "metadata": {},
   "outputs": [],
   "source": [
    "text[0]"
   ]
  },
  {
   "cell_type": "code",
   "execution_count": null,
   "id": "8310f1ae",
   "metadata": {},
   "outputs": [],
   "source": [
    "inputs"
   ]
  },
  {
   "cell_type": "code",
   "execution_count": null,
   "id": "e5acd66b",
   "metadata": {},
   "outputs": [],
   "source": [
    "text = \"Replace me by any text you'd like.\"\n",
    "inputs = tokenizer(text, return_tensors='tf', return_attention_mask=True)\n",
    "output = model(input_ids =inputs[\"input_ids\"], attention_mask = inputs[\"attention_mask\"])"
   ]
  },
  {
   "cell_type": "code",
   "execution_count": null,
   "id": "43a5c3dc",
   "metadata": {},
   "outputs": [],
   "source": [
    "inputs = tokenizer(\"this is a cat [Mask]\",  padding=True,return_tensors=\"tf\")"
   ]
  },
  {
   "cell_type": "code",
   "execution_count": null,
   "id": "2f76aabb",
   "metadata": {},
   "outputs": [],
   "source": [
    "outputs = model(inputs)"
   ]
  },
  {
   "cell_type": "code",
   "execution_count": null,
   "id": "a8f77e95",
   "metadata": {},
   "outputs": [],
   "source": [
    "tf.math.argmax([[[1,2,3,4,1,1,1,1],[1,115,1251,1,512,1,1,1]]], axis = 2)"
   ]
  },
  {
   "cell_type": "code",
   "execution_count": null,
   "id": "1cfa0afe",
   "metadata": {},
   "outputs": [],
   "source": [
    "len(tokenizer.vocab)"
   ]
  },
  {
   "cell_type": "code",
   "execution_count": null,
   "id": "f9d3eafc",
   "metadata": {},
   "outputs": [],
   "source": [
    "soft = tf.nn.softmax(outputs[0],axis= 2)"
   ]
  },
  {
   "cell_type": "code",
   "execution_count": null,
   "id": "e81cea83",
   "metadata": {},
   "outputs": [],
   "source": [
    "outputs.hidden_states"
   ]
  },
  {
   "cell_type": "code",
   "execution_count": null,
   "id": "93d64841",
   "metadata": {},
   "outputs": [],
   "source": [
    "outputs.prediction_logits"
   ]
  },
  {
   "cell_type": "code",
   "execution_count": null,
   "id": "8aae601e",
   "metadata": {},
   "outputs": [],
   "source": [
    "pred = tf.math.argmax(\n",
    "    soft, axis=2, name=None\n",
    ")"
   ]
  },
  {
   "cell_type": "code",
   "execution_count": null,
   "id": "9e7493c8",
   "metadata": {},
   "outputs": [],
   "source": [
    "model.bert(inputs)"
   ]
  },
  {
   "cell_type": "code",
   "execution_count": null,
   "id": "4cf4d524",
   "metadata": {},
   "outputs": [],
   "source": [
    "[tokenizer.decode(i) for i in pred]"
   ]
  },
  {
   "cell_type": "code",
   "execution_count": null,
   "id": "801e6466",
   "metadata": {},
   "outputs": [],
   "source": [
    "model.bert(inputs)"
   ]
  },
  {
   "cell_type": "code",
   "execution_count": null,
   "id": "adb0ab8b",
   "metadata": {},
   "outputs": [],
   "source": [
    "transformers.BertConfig.from_pretrained(\"bert-base-uncased\")"
   ]
  },
  {
   "cell_type": "code",
   "execution_count": null,
   "id": "71033044",
   "metadata": {},
   "outputs": [],
   "source": [
    "model.bert.pooler.get_weights()[1].shape"
   ]
  },
  {
   "cell_type": "code",
   "execution_count": null,
   "id": "6ca9b0b6",
   "metadata": {},
   "outputs": [],
   "source": [
    "output = model.bert(inputs)"
   ]
  },
  {
   "cell_type": "code",
   "execution_count": null,
   "id": "d0ff37cb",
   "metadata": {},
   "outputs": [],
   "source": [
    "output.last_hidden_state"
   ]
  },
  {
   "cell_type": "code",
   "execution_count": null,
   "id": "e5b084cc",
   "metadata": {},
   "outputs": [],
   "source": [
    "output.last_hidden_state.shape"
   ]
  },
  {
   "cell_type": "code",
   "execution_count": null,
   "id": "25a7d6e7",
   "metadata": {},
   "outputs": [],
   "source": []
  },
  {
   "cell_type": "code",
   "execution_count": null,
   "id": "9bc3f092",
   "metadata": {},
   "outputs": [],
   "source": [
    "first_token_tensor = output.last_hidden_state[:, 0]"
   ]
  },
  {
   "cell_type": "code",
   "execution_count": null,
   "id": "4660090d",
   "metadata": {},
   "outputs": [],
   "source": [
    "first_token_tensor"
   ]
  },
  {
   "cell_type": "code",
   "execution_count": null,
   "id": "6430bb2e",
   "metadata": {},
   "outputs": [],
   "source": []
  },
  {
   "cell_type": "code",
   "execution_count": null,
   "id": "8dc79f6a",
   "metadata": {},
   "outputs": [],
   "source": [
    "x = tokenizer(\"My name is the best\",return_tensors='tf')\n",
    "model.bert(x)"
   ]
  },
  {
   "cell_type": "code",
   "execution_count": null,
   "id": "6eeb0eec",
   "metadata": {},
   "outputs": [],
   "source": [
    "model.bert()"
   ]
  },
  {
   "cell_type": "code",
   "execution_count": null,
   "id": "d8e2c398",
   "metadata": {},
   "outputs": [],
   "source": [
    "t = [\"the cat ate a bone\", \"the dog ate a grape\", \"the dog ate a grape and almost died\",\"covid pandemic is the biggest pandemic\", \"pandemic is getting more dangerous as time goes\", \"healthcare workers are risking their lives in their work\"]"
   ]
  },
  {
   "cell_type": "code",
   "execution_count": null,
   "id": "b3bc569f",
   "metadata": {},
   "outputs": [],
   "source": [
    "res = []\n",
    "for i in t:\n",
    "    x = tokenizer(i,return_tensors='tf')\n",
    "    res.append(model.bert(x).pooler_output)"
   ]
  },
  {
   "cell_type": "code",
   "execution_count": null,
   "id": "d684ea94",
   "metadata": {},
   "outputs": [],
   "source": [
    "res = [tf.reshape(i,768) for i in res]"
   ]
  },
  {
   "cell_type": "code",
   "execution_count": null,
   "id": "6a16ab68",
   "metadata": {},
   "outputs": [],
   "source": [
    "for i in itertools.combinations(res,2):\n",
    "    x,y = i\n",
    "    print(np.linalg.norm(x-y))"
   ]
  },
  {
   "cell_type": "code",
   "execution_count": null,
   "id": "7b9722a6",
   "metadata": {},
   "outputs": [],
   "source": [
    "clus = KMeans(n_clusters=2).fit(res)"
   ]
  },
  {
   "cell_type": "code",
   "execution_count": null,
   "id": "422e1dc0",
   "metadata": {},
   "outputs": [],
   "source": [
    "clus.predict(res)"
   ]
  },
  {
   "cell_type": "code",
   "execution_count": null,
   "id": "512b6724",
   "metadata": {},
   "outputs": [],
   "source": [
    "from sklearn.cluster import KMeans"
   ]
  },
  {
   "cell_type": "code",
   "execution_count": null,
   "id": "669db1b4",
   "metadata": {},
   "outputs": [],
   "source": [
    "import numpy as np"
   ]
  },
  {
   "cell_type": "code",
   "execution_count": null,
   "id": "f96abdb8",
   "metadata": {},
   "outputs": [],
   "source": []
  },
  {
   "cell_type": "code",
   "execution_count": null,
   "id": "3b0b607f",
   "metadata": {},
   "outputs": [],
   "source": [
    "x = tokenizer(\"kp oli le jitxa arko election pani ani herina parxa circus\",return_tensors='tf')"
   ]
  },
  {
   "cell_type": "code",
   "execution_count": null,
   "id": "6c738252",
   "metadata": {},
   "outputs": [],
   "source": [
    "z = model.bert(x).pooler_output"
   ]
  },
  {
   "cell_type": "code",
   "execution_count": null,
   "id": "e47687f4",
   "metadata": {},
   "outputs": [],
   "source": [
    "np.linalg.norm(z-z2)"
   ]
  },
  {
   "cell_type": "code",
   "execution_count": null,
   "id": "ea0457b5",
   "metadata": {},
   "outputs": [],
   "source": []
  }
 ],
 "metadata": {
  "kernelspec": {
   "display_name": "conda_tensorflow2_p36",
   "language": "python",
   "name": "conda_tensorflow2_p36"
  },
  "language_info": {
   "codemirror_mode": {
    "name": "ipython",
    "version": 3
   },
   "file_extension": ".py",
   "mimetype": "text/x-python",
   "name": "python",
   "nbconvert_exporter": "python",
   "pygments_lexer": "ipython3",
   "version": "3.6.13"
  }
 },
 "nbformat": 4,
 "nbformat_minor": 5
}
